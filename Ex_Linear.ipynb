{
 "cells": [
  {
   "cell_type": "code",
   "execution_count": 2,
   "metadata": {},
   "outputs": [],
   "source": [
    "import numpy as np\n",
    "import matplotlib.pyplot as plt"
   ]
  },
  {
   "cell_type": "code",
   "execution_count": 16,
   "metadata": {},
   "outputs": [
    {
     "name": "stdout",
     "output_type": "stream",
     "text": [
      "[[1.  1.  1. ]\n",
      " [1.  2.  2. ]\n",
      " [1.  3.  5.1]\n",
      " [1.  4.  4.2]\n",
      " [1.  5.  7.5]\n",
      " [1.  6.  6.1]\n",
      " [1.  7.  9.2]]\n",
      "[ 2.   4.1  6.3 10.2 10.5 12.1 14.1]\n"
     ]
    }
   ],
   "source": [
    "x = np.array([[1,2,3,4,5,6,7]])\n",
    "y = np.array([[1,2,5.1,4.2,7.5,6.1,9.2]])\n",
    "\n",
    "N = x1.shape[1]\n",
    "x0 = np.ones((1,N))\n",
    "\n",
    "X = np.concatenate((x0.T, x.T, y.T), axis=1)\n",
    "d = X.shape[1]\n",
    "\n",
    "# print(d)\n",
    "print(X)\n",
    "\n",
    "z = np.array([2,4.1,6.3,10.2,10.5,12.1,14.1])\n",
    "print(z)"
   ]
  },
  {
   "cell_type": "code",
   "execution_count": 12,
   "metadata": {},
   "outputs": [],
   "source": [
    "# w : tham so\n",
    "def f(x_i,w):\n",
    "    return w[0]+w[1]*x_i\n",
    "\n",
    "def loss(x,y,w):\n",
    "    error = 0\n",
    "    for i in range(len(x)):\n",
    "        error += (y[i] - f(x[i], w))**2\n",
    "    return error/(2*len(x))\n",
    "\n",
    "# tinh dao ham tao diem w[0], w[1]\n",
    "def derivative(x,y,w):\n",
    "    d0 =0 #w[0]\n",
    "    d1 =0 #w[1]\n",
    "    for i in range(len(x)):\n",
    "        d1 += x[i]*(f(x[i],w) - y[i])\n",
    "        d0 = f(x[i],w) - y[i]\n",
    "    return d0/len(x),d1/len(x)"
   ]
  },
  {
   "cell_type": "code",
   "execution_count": 25,
   "metadata": {},
   "outputs": [
    {
     "name": "stdout",
     "output_type": "stream",
     "text": [
      "epoch_ 0 :\n",
      "w= [array([0.99 , 0.99 , 1.011, 0.992, 1.015, 0.991, 1.012]), array([0.99 , 0.98 , 1.033, 0.968, 1.075, 0.946, 1.084])]\n"
     ]
    },
    {
     "ename": "ValueError",
     "evalue": "The truth value of an array with more than one element is ambiguous. Use a.any() or a.all()",
     "output_type": "error",
     "traceback": [
      "\u001b[1;31m---------------------------------------------------------------------------\u001b[0m",
      "\u001b[1;31mValueError\u001b[0m                                Traceback (most recent call last)",
      "\u001b[1;32m<ipython-input-25-0129bb24f0db>\u001b[0m in \u001b[0;36m<module>\u001b[1;34m\u001b[0m\n\u001b[0;32m     14\u001b[0m     \u001b[0mprint\u001b[0m\u001b[1;33m(\u001b[0m\u001b[1;34m'epoch_'\u001b[0m\u001b[1;33m,\u001b[0m\u001b[0mi\u001b[0m\u001b[1;33m,\u001b[0m\u001b[1;34m':'\u001b[0m\u001b[1;33m)\u001b[0m\u001b[1;33m\u001b[0m\u001b[1;33m\u001b[0m\u001b[0m\n\u001b[0;32m     15\u001b[0m     \u001b[0mprint\u001b[0m\u001b[1;33m(\u001b[0m\u001b[1;34m'w='\u001b[0m\u001b[1;33m,\u001b[0m\u001b[0mw\u001b[0m\u001b[1;33m)\u001b[0m\u001b[1;33m\u001b[0m\u001b[1;33m\u001b[0m\u001b[0m\n\u001b[1;32m---> 16\u001b[1;33m     \u001b[1;32mif\u001b[0m \u001b[0mabs\u001b[0m\u001b[1;33m(\u001b[0m\u001b[0mloss_new\u001b[0m \u001b[1;33m-\u001b[0m \u001b[0mloss_old\u001b[0m\u001b[1;33m)\u001b[0m \u001b[1;33m<\u001b[0m \u001b[1;36m0.0001\u001b[0m\u001b[1;33m:\u001b[0m\u001b[1;33m\u001b[0m\u001b[1;33m\u001b[0m\u001b[0m\n\u001b[0m\u001b[0;32m     17\u001b[0m         \u001b[1;32mbreak\u001b[0m\u001b[1;33m\u001b[0m\u001b[1;33m\u001b[0m\u001b[0m\n\u001b[0;32m     18\u001b[0m     \u001b[0mloss_old\u001b[0m \u001b[1;33m=\u001b[0m \u001b[0mloss_new\u001b[0m\u001b[1;33m\u001b[0m\u001b[1;33m\u001b[0m\u001b[0m\n",
      "\u001b[1;31mValueError\u001b[0m: The truth value of an array with more than one element is ambiguous. Use a.any() or a.all()"
     ]
    }
   ],
   "source": [
    "epoch = 10\n",
    "learning_rate = 0.01\n",
    "w = [1,1]\n",
    "loss_old = loss(x,y,w)\n",
    "\n",
    "for i in range(epoch):\n",
    "    \n",
    "    a,b = derivative(x,y,w)\n",
    "    w[0]  = w[0] - a*learning_rate\n",
    "    w[1]  = w[1] - b*learning_rate    \n",
    "    \n",
    "#     Y = a+b*x[i]\n",
    "    loss_new = loss(x,y,w)\n",
    "    print('epoch_',i,':')\n",
    "    print('w=',w)\n",
    "    if abs(loss_new - loss_old) < 0.0001:\n",
    "        break\n",
    "    loss_old = loss_new"
   ]
  }
 ],
 "metadata": {
  "kernelspec": {
   "display_name": "Python 3",
   "language": "python",
   "name": "python3"
  },
  "language_info": {
   "codemirror_mode": {
    "name": "ipython",
    "version": 3
   },
   "file_extension": ".py",
   "mimetype": "text/x-python",
   "name": "python",
   "nbconvert_exporter": "python",
   "pygments_lexer": "ipython3",
   "version": "3.8.3"
  }
 },
 "nbformat": 4,
 "nbformat_minor": 4
}
