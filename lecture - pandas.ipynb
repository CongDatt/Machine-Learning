{
 "cells": [
  {
   "cell_type": "markdown",
   "metadata": {},
   "source": [
    "What is Pandas ?\n",
    "pandas is a fast, powerful, flexible and easy to use open source data analysis and manipulation tool,\n",
    "built on top of the Python programming language."
   ]
  },
  {
   "cell_type": "code",
   "execution_count": 1,
   "metadata": {},
   "outputs": [
    {
     "name": "stdout",
     "output_type": "stream",
     "text": [
      "1.0.1\n"
     ]
    }
   ],
   "source": [
    "import pandas as pd\n",
    "print(pd.__version__)"
   ]
  },
  {
   "cell_type": "markdown",
   "metadata": {},
   "source": [
    "1. Đọc dữ liệu từ file, hiểu cấu trúc của dataframe \n",
    "   + tạo dữ liệu trực tiếp \n",
    "2. Trích xuất dữ liệu, trích chọn dữ liệu \n",
    "3. Vẽ đồ thị dữ liệu\n",
    "4. Chuyển đổi dữ liệu, xử lý dữ liệu "
   ]
  },
  {
   "cell_type": "code",
   "execution_count": 113,
   "metadata": {},
   "outputs": [
    {
     "data": {
      "text/html": [
       "<div>\n",
       "<style scoped>\n",
       "    .dataframe tbody tr th:only-of-type {\n",
       "        vertical-align: middle;\n",
       "    }\n",
       "\n",
       "    .dataframe tbody tr th {\n",
       "        vertical-align: top;\n",
       "    }\n",
       "\n",
       "    .dataframe thead th {\n",
       "        text-align: right;\n",
       "    }\n",
       "</style>\n",
       "<table border=\"1\" class=\"dataframe\">\n",
       "  <thead>\n",
       "    <tr style=\"text-align: right;\">\n",
       "      <th></th>\n",
       "      <th>39</th>\n",
       "      <th>State-gov</th>\n",
       "      <th>77516</th>\n",
       "      <th>Bachelors</th>\n",
       "      <th>13</th>\n",
       "      <th>Never-married</th>\n",
       "      <th>Adm-clerical</th>\n",
       "      <th>Not-in-family</th>\n",
       "      <th>White</th>\n",
       "      <th>Male</th>\n",
       "      <th>2174</th>\n",
       "      <th>0</th>\n",
       "      <th>40</th>\n",
       "      <th>United-States</th>\n",
       "      <th>&lt;=50K</th>\n",
       "    </tr>\n",
       "  </thead>\n",
       "  <tbody>\n",
       "    <tr>\n",
       "      <th>0</th>\n",
       "      <td>50</td>\n",
       "      <td>Self-emp-not-inc</td>\n",
       "      <td>83311</td>\n",
       "      <td>Bachelors</td>\n",
       "      <td>13</td>\n",
       "      <td>Married-civ-spouse</td>\n",
       "      <td>Exec-managerial</td>\n",
       "      <td>Husband</td>\n",
       "      <td>White</td>\n",
       "      <td>Male</td>\n",
       "      <td>0</td>\n",
       "      <td>0</td>\n",
       "      <td>13</td>\n",
       "      <td>United-States</td>\n",
       "      <td>&lt;=50K</td>\n",
       "    </tr>\n",
       "    <tr>\n",
       "      <th>1</th>\n",
       "      <td>38</td>\n",
       "      <td>Private</td>\n",
       "      <td>215646</td>\n",
       "      <td>HS-grad</td>\n",
       "      <td>9</td>\n",
       "      <td>Divorced</td>\n",
       "      <td>Handlers-cleaners</td>\n",
       "      <td>Not-in-family</td>\n",
       "      <td>White</td>\n",
       "      <td>Male</td>\n",
       "      <td>0</td>\n",
       "      <td>0</td>\n",
       "      <td>40</td>\n",
       "      <td>United-States</td>\n",
       "      <td>&lt;=50K</td>\n",
       "    </tr>\n",
       "    <tr>\n",
       "      <th>2</th>\n",
       "      <td>53</td>\n",
       "      <td>Private</td>\n",
       "      <td>234721</td>\n",
       "      <td>11th</td>\n",
       "      <td>7</td>\n",
       "      <td>Married-civ-spouse</td>\n",
       "      <td>Handlers-cleaners</td>\n",
       "      <td>Husband</td>\n",
       "      <td>Black</td>\n",
       "      <td>Male</td>\n",
       "      <td>0</td>\n",
       "      <td>0</td>\n",
       "      <td>40</td>\n",
       "      <td>United-States</td>\n",
       "      <td>&lt;=50K</td>\n",
       "    </tr>\n",
       "    <tr>\n",
       "      <th>3</th>\n",
       "      <td>28</td>\n",
       "      <td>Private</td>\n",
       "      <td>338409</td>\n",
       "      <td>Bachelors</td>\n",
       "      <td>13</td>\n",
       "      <td>Married-civ-spouse</td>\n",
       "      <td>Prof-specialty</td>\n",
       "      <td>Wife</td>\n",
       "      <td>Black</td>\n",
       "      <td>Female</td>\n",
       "      <td>0</td>\n",
       "      <td>0</td>\n",
       "      <td>40</td>\n",
       "      <td>Cuba</td>\n",
       "      <td>&lt;=50K</td>\n",
       "    </tr>\n",
       "    <tr>\n",
       "      <th>4</th>\n",
       "      <td>37</td>\n",
       "      <td>Private</td>\n",
       "      <td>284582</td>\n",
       "      <td>Masters</td>\n",
       "      <td>14</td>\n",
       "      <td>Married-civ-spouse</td>\n",
       "      <td>Exec-managerial</td>\n",
       "      <td>Wife</td>\n",
       "      <td>White</td>\n",
       "      <td>Female</td>\n",
       "      <td>0</td>\n",
       "      <td>0</td>\n",
       "      <td>40</td>\n",
       "      <td>United-States</td>\n",
       "      <td>&lt;=50K</td>\n",
       "    </tr>\n",
       "  </tbody>\n",
       "</table>\n",
       "</div>"
      ],
      "text/plain": [
       "   39          State-gov   77516   Bachelors   13        Never-married  \\\n",
       "0  50   Self-emp-not-inc   83311   Bachelors   13   Married-civ-spouse   \n",
       "1  38            Private  215646     HS-grad    9             Divorced   \n",
       "2  53            Private  234721        11th    7   Married-civ-spouse   \n",
       "3  28            Private  338409   Bachelors   13   Married-civ-spouse   \n",
       "4  37            Private  284582     Masters   14   Married-civ-spouse   \n",
       "\n",
       "         Adm-clerical   Not-in-family   White     Male   2174   0   40  \\\n",
       "0     Exec-managerial         Husband   White     Male      0   0   13   \n",
       "1   Handlers-cleaners   Not-in-family   White     Male      0   0   40   \n",
       "2   Handlers-cleaners         Husband   Black     Male      0   0   40   \n",
       "3      Prof-specialty            Wife   Black   Female      0   0   40   \n",
       "4     Exec-managerial            Wife   White   Female      0   0   40   \n",
       "\n",
       "    United-States   <=50K  \n",
       "0   United-States   <=50K  \n",
       "1   United-States   <=50K  \n",
       "2   United-States   <=50K  \n",
       "3            Cuba   <=50K  \n",
       "4   United-States   <=50K  "
      ]
     },
     "execution_count": 113,
     "metadata": {},
     "output_type": "execute_result"
    }
   ],
   "source": [
    "# 1. Đọc dữ liệu từ file  \n",
    "df = pd.read_csv('adult.data')\n",
    "df.head(5)"
   ]
  },
  {
   "cell_type": "code",
   "execution_count": 158,
   "metadata": {},
   "outputs": [
    {
     "name": "stdout",
     "output_type": "stream",
     "text": [
      "         species  population\n",
      "panda       bear        1864\n",
      "polar       bear       22000\n",
      "koala  marsupial       80000\n",
      "     species  population  test\n",
      "0       bear        1864     1\n",
      "1       bear       22000     2\n",
      "2  marsupial       80000     3\n"
     ]
    }
   ],
   "source": [
    "# 1b. tạo dữ liệu từ đầu \n",
    "df1 = pd.DataFrame({'species': ['bear', 'bear', 'marsupial'],\n",
    "                  'population': [1864, 22000, 80000]},\n",
    "                  index=['panda', 'polar', 'koala'])\n",
    "print(df1)\n",
    "\n",
    "df1 = pd.DataFrame({'species': ['bear', 'bear', 'marsupial'],\n",
    "                  'population': [1864, 22000, 80000]},\n",
    "                  )\n",
    "df1['test'] = [1,2,3]\n",
    "print(df1)"
   ]
  },
  {
   "cell_type": "code",
   "execution_count": 39,
   "metadata": {},
   "outputs": [
    {
     "name": "stdout",
     "output_type": "stream",
     "text": [
      "15\n",
      "['39', ' State-gov', ' 77516', ' Bachelors', ' 13', ' Never-married', ' Adm-clerical', ' Not-in-family', ' White', ' Male', ' 2174', ' 0', ' 40', ' United-States', ' <=50K']\n",
      "39                 int64\n",
      " State-gov        object\n",
      " 77516             int64\n",
      " Bachelors        object\n",
      " 13                int64\n",
      " Never-married    object\n",
      " Adm-clerical     object\n",
      " Not-in-family    object\n",
      " White            object\n",
      " Male             object\n",
      " 2174              int64\n",
      " 0                 int64\n",
      " 40                int64\n",
      " United-States    object\n",
      " <=50K            object\n",
      "dtype: object\n",
      "\n",
      "Type of a column:\n",
      "int64\n"
     ]
    }
   ],
   "source": [
    "# tên cột\n",
    "names = df.columns.values.tolist()\n",
    "print(len(names))\n",
    "print(names)\n",
    "types = df.dtypes\n",
    "print(types)\n",
    "print('\\nType of a column:')\n",
    "print(types['39'])"
   ]
  },
  {
   "cell_type": "code",
   "execution_count": 48,
   "metadata": {},
   "outputs": [
    {
     "name": "stdout",
     "output_type": "stream",
     "text": [
      " 11th\n",
      "32560\n",
      "[' Bachelors', ' HS-grad', ' 11th', ' Bachelors', ' Masters', ' 9th', ' HS-grad', ' Masters', ' Bachelors', ' Some-college']\n",
      "   39   Bachelors\n",
      "1  38     HS-grad\n",
      "2  53        11th\n",
      "3  28   Bachelors\n"
     ]
    }
   ],
   "source": [
    "#lấy thông tin theo cột\n",
    "\n",
    "# lấy 1 ô \n",
    "# val = df['col_name'].values[0]\n",
    "x = df[' Bachelors'][2]\n",
    "print(x)\n",
    "# lấy cả cột\n",
    "col = list(df[' Bachelors'])\n",
    "print(len(col))\n",
    "print(col[:10])\n",
    "# lấy nhiều cột theo điều kiện\n",
    "cols = df.loc[1:3,['39',' Bachelors']]\n",
    "print(cols)"
   ]
  },
  {
   "cell_type": "code",
   "execution_count": 50,
   "metadata": {},
   "outputs": [
    {
     "name": "stdout",
     "output_type": "stream",
     "text": [
      "[50, ' Self-emp-not-inc', 83311, ' Bachelors', 13, ' Married-civ-spouse', ' Exec-managerial', ' Husband', ' White', ' Male', 0, 0, 13, ' United-States', ' <=50K']\n",
      "['39', ' State-gov', ' 77516', ' Bachelors', ' 13', ' Never-married', ' Adm-clerical', ' Not-in-family', ' White', ' Male', ' 2174', ' 0', ' 40', ' United-States', ' <=50K']\n"
     ]
    }
   ],
   "source": [
    "# lấy cả dòng \n",
    "# loc gets rows (or columns) with particular labels from the index.\n",
    "# iloc gets rows (or columns) at particular positions in the index (so it only takes integers).\n",
    "row = list(df.iloc[0])\n",
    "print(row)\n",
    "rows = list(df.iloc[0:2])\n",
    "print(rows)"
   ]
  },
  {
   "cell_type": "code",
   "execution_count": 25,
   "metadata": {},
   "outputs": [
    {
     "name": "stdout",
     "output_type": "stream",
     "text": [
      "(32560, 15)\n",
      "[50 ' Self-emp-not-inc' 83311 ' Bachelors' 13 ' Married-civ-spouse'\n",
      " ' Exec-managerial' ' Husband' ' White' ' Male' 0 0 13 ' United-States'\n",
      " ' <=50K']\n"
     ]
    }
   ],
   "source": [
    "# lấy toàn bộ dữ liệu\n",
    "# chuyển về dạng numpy \n",
    "data = df.values\n",
    "print(data.shape)\n",
    "print(data[0])"
   ]
  },
  {
   "cell_type": "code",
   "execution_count": 70,
   "metadata": {},
   "outputs": [
    {
     "name": "stdout",
     "output_type": "stream",
     "text": [
      "(464, 15)\n",
      "    39          State-gov   77516   Bachelors   13        Never-married  \\\n",
      "2   53            Private  234721        11th    7   Married-civ-spouse   \n",
      "40  53   Self-emp-not-inc   88506   Bachelors   13   Married-civ-spouse   \n",
      "45  53            Private  144361     HS-grad    9   Married-civ-spouse   \n",
      "66  53            Private  169846     HS-grad    9   Married-civ-spouse   \n",
      "84  53            Private  346253     HS-grad    9             Divorced   \n",
      "\n",
      "          Adm-clerical  Not-in-family   White     Male   2174   0   40  \\\n",
      "2    Handlers-cleaners        Husband   Black     Male      0   0   40   \n",
      "40      Prof-specialty        Husband   White     Male      0   0   40   \n",
      "45   Machine-op-inspct        Husband   White     Male      0   0   38   \n",
      "66        Adm-clerical           Wife   White   Female      0   0   40   \n",
      "84               Sales      Own-child   White   Female      0   0   35   \n",
      "\n",
      "     United-States   <=50K  \n",
      "2    United-States   <=50K  \n",
      "40   United-States   <=50K  \n",
      "45   United-States   <=50K  \n",
      "66   United-States    >50K  \n",
      "84   United-States   <=50K  \n"
     ]
    }
   ],
   "source": [
    "# lấy dữ liệu theo điều kiện \n",
    "d = df.loc[df['39']==53]\n",
    "#d = df.loc[df['39'].isin([38,53])]\n",
    "print(d.shape)\n",
    "print(d.head())"
   ]
  },
  {
   "cell_type": "code",
   "execution_count": 72,
   "metadata": {},
   "outputs": [
    {
     "data": {
      "text/plain": [
       "False"
      ]
     },
     "execution_count": 72,
     "metadata": {},
     "output_type": "execute_result"
    }
   ],
   "source": [
    "# kiểm tra xem data có null không \n",
    "df.empty"
   ]
  },
  {
   "cell_type": "code",
   "execution_count": 1,
   "metadata": {},
   "outputs": [
    {
     "ename": "NameError",
     "evalue": "name 'df' is not defined",
     "output_type": "error",
     "traceback": [
      "\u001b[1;31m---------------------------------------------------------------------------\u001b[0m",
      "\u001b[1;31mNameError\u001b[0m                                 Traceback (most recent call last)",
      "\u001b[1;32m<ipython-input-1-bd3e2793a5ca>\u001b[0m in \u001b[0;36m<module>\u001b[1;34m\u001b[0m\n\u001b[0;32m      1\u001b[0m \u001b[1;31m# kiẻm tra phần tử null\u001b[0m\u001b[1;33m\u001b[0m\u001b[1;33m\u001b[0m\u001b[1;33m\u001b[0m\u001b[0m\n\u001b[1;32m----> 2\u001b[1;33m \u001b[0md\u001b[0m \u001b[1;33m=\u001b[0m \u001b[0mdf\u001b[0m\u001b[1;33m.\u001b[0m\u001b[0misna\u001b[0m\u001b[1;33m\u001b[0m\u001b[1;33m\u001b[0m\u001b[0m\n\u001b[0m",
      "\u001b[1;31mNameError\u001b[0m: name 'df' is not defined"
     ]
    }
   ],
   "source": [
    "# kiẻm tra phần tử null \n",
    "d = df.isna"
   ]
  },
  {
   "cell_type": "code",
   "execution_count": 82,
   "metadata": {},
   "outputs": [
    {
     "data": {
      "text/plain": [
       "39                False\n",
       " State-gov        False\n",
       " 77516            False\n",
       " Bachelors        False\n",
       " 13               False\n",
       " Never-married    False\n",
       " Adm-clerical     False\n",
       " Not-in-family    False\n",
       " White            False\n",
       " Male             False\n",
       " 2174             False\n",
       " 0                False\n",
       " 40               False\n",
       " United-States    False\n",
       " <=50K            False\n",
       "dtype: bool"
      ]
     },
     "execution_count": 82,
     "metadata": {},
     "output_type": "execute_result"
    }
   ],
   "source": [
    "df.isnull().any()"
   ]
  },
  {
   "cell_type": "code",
   "execution_count": 84,
   "metadata": {},
   "outputs": [
    {
     "data": {
      "text/plain": [
       "Index([], dtype='object')"
      ]
     },
     "execution_count": 84,
     "metadata": {},
     "output_type": "execute_result"
    }
   ],
   "source": [
    "df.loc[:, df.isnull().any()].columns"
   ]
  },
  {
   "cell_type": "code",
   "execution_count": 100,
   "metadata": {},
   "outputs": [
    {
     "name": "stdout",
     "output_type": "stream",
     "text": [
      "   39  State-gov   77516   Bachelors   13        Never-married  \\\n",
      "0  50        NaN   83311   Bachelors   13   Married-civ-spouse   \n",
      "1  38    Private  215646     HS-grad    9             Divorced   \n",
      "\n",
      "         Adm-clerical   Not-in-family   White   Male   2174   0   40  \\\n",
      "0     Exec-managerial         Husband   White   Male      0   0   13   \n",
      "1   Handlers-cleaners   Not-in-family   White   Male      0   0   40   \n",
      "\n",
      "    United-States   <=50K  \n",
      "0   United-States   <=50K  \n",
      "1   United-States   <=50K  \n"
     ]
    }
   ],
   "source": [
    "import numpy \n",
    "df.loc[0][1]\n",
    "df.iat[0,1]=numpy.nan \n",
    "print(df.head(2))"
   ]
  },
  {
   "cell_type": "code",
   "execution_count": 101,
   "metadata": {},
   "outputs": [
    {
     "data": {
      "text/plain": [
       "39                False\n",
       " State-gov         True\n",
       " 77516            False\n",
       " Bachelors        False\n",
       " 13               False\n",
       " Never-married    False\n",
       " Adm-clerical     False\n",
       " Not-in-family    False\n",
       " White            False\n",
       " Male             False\n",
       " 2174             False\n",
       " 0                False\n",
       " 40               False\n",
       " United-States    False\n",
       " <=50K            False\n",
       "dtype: bool"
      ]
     },
     "execution_count": 101,
     "metadata": {},
     "output_type": "execute_result"
    }
   ],
   "source": [
    "df.isnull().any()"
   ]
  },
  {
   "cell_type": "code",
   "execution_count": 109,
   "metadata": {},
   "outputs": [
    {
     "data": {
      "text/plain": [
       "<matplotlib.axes._subplots.AxesSubplot at 0x12c3aae50>"
      ]
     },
     "execution_count": 109,
     "metadata": {},
     "output_type": "execute_result"
    },
    {
     "data": {
      "image/png": "[encoded data removed]",
      "text/plain": [
       "<Figure size 432x288 with 1 Axes>"
      ]
     },
     "metadata": {
      "needs_background": "light"
     },
     "output_type": "display_data"
    }
   ],
   "source": [
    "# 3. vẽ đồ thị \n",
    "# trục hoành là 1 cột, trục tung là các cột giá trị số còn lại  \n",
    "df1 = pd.DataFrame({'species': ['bear', 'bear', 'marsupial'],\n",
    "                  'population': [18, 22, 80],\n",
    "                    'abc': ['a', 'b', 'c'],\n",
    "                   'test':[2,4,5]},\n",
    "                  index=['panda', 'polar', 'koala'])\n",
    "#print(df1)\n",
    "df1.plot.bar(x='species', rot=0)"
   ]
  },
  {
   "cell_type": "code",
   "execution_count": 112,
   "metadata": {},
   "outputs": [
    {
     "data": {
      "text/plain": [
       "<matplotlib.axes._subplots.AxesSubplot at 0x12c604cd0>"
      ]
     },
     "execution_count": 112,
     "metadata": {},
     "output_type": "execute_result"
    },
    {
     "data": {
      "image/png": "[encoded data removed]",
      "text/plain": [
       "<Figure size 432x288 with 1 Axes>"
      ]
     },
     "metadata": {
      "needs_background": "light"
     },
     "output_type": "display_data"
    }
   ],
   "source": [
    "# 3. vẽ đồ thị \n",
    "# - xác định 2 trục trước khi vẽ, trong đó y là trục numeric \n",
    "df1 = pd.DataFrame({'species': ['bear', 'bear', 'marsupial'],\n",
    "                  'population': [18, 22, 80],\n",
    "                    'abc': ['a', 'b', 'c'],\n",
    "                   'test':[2,4,5]},\n",
    "                  index=['panda', 'polar', 'koala'])\n",
    "#print(df1)\n",
    "df1.plot.bar(x='species',y='test')"
   ]
  },
  {
   "cell_type": "code",
   "execution_count": 132,
   "metadata": {},
   "outputs": [
    {
     "name": "stdout",
     "output_type": "stream",
     "text": [
      " <=50K    24719\n",
      " >50K      7841\n",
      "Name:  <=50K, dtype: int64\n"
     ]
    },
    {
     "data": {
      "text/plain": [
       "<matplotlib.axes._subplots.AxesSubplot at 0x12caf76d0>"
      ]
     },
     "execution_count": 132,
     "metadata": {},
     "output_type": "execute_result"
    },
    {
     "data": {
      "image/png": "[encoded data removed]",
      "text/plain": [
       "<Figure size 432x288 with 1 Axes>"
      ]
     },
     "metadata": {
      "needs_background": "light"
     },
     "output_type": "display_data"
    }
   ],
   "source": [
    "#3. vẽ\n",
    "# - đếm frequency trước khi vẽ \n",
    "f = df[' <=50K'].value_counts()\n",
    "print(f)\n",
    "f.plot.bar()\n"
   ]
  },
  {
   "cell_type": "code",
   "execution_count": 133,
   "metadata": {},
   "outputs": [
    {
     "name": "stdout",
     "output_type": "stream",
     "text": [
      " White                 27815\n",
      " Black                  3124\n",
      " Asian-Pac-Islander     1039\n",
      " Amer-Indian-Eskimo      311\n",
      " Other                   271\n",
      "Name:  White, dtype: int64\n"
     ]
    },
    {
     "data": {
      "text/plain": [
       "<matplotlib.axes._subplots.AxesSubplot at 0x10e1d3c90>"
      ]
     },
     "execution_count": 133,
     "metadata": {},
     "output_type": "execute_result"
    },
    {
     "data": {
      "image/png": "[encoded data removed]",
      "text/plain": [
       "<Figure size 432x288 with 1 Axes>"
      ]
     },
     "metadata": {
      "needs_background": "light"
     },
     "output_type": "display_data"
    }
   ],
   "source": [
    "f = df[' White'].value_counts()\n",
    "print(f)\n",
    "f.plot.bar()"
   ]
  },
  {
   "cell_type": "code",
   "execution_count": 134,
   "metadata": {},
   "outputs": [
    {
     "data": {
      "text/plain": [
       "<matplotlib.axes._subplots.AxesSubplot at 0x12cc5d790>"
      ]
     },
     "execution_count": 134,
     "metadata": {},
     "output_type": "execute_result"
    },
    {
     "data": {
      "image/png": "[encoded data removed]",
      "text/plain": [
       "<Figure size 432x288 with 1 Axes>"
      ]
     },
     "metadata": {
      "needs_background": "light"
     },
     "output_type": "display_data"
    }
   ],
   "source": [
    "# quan hệ giữa các attribute\n",
    "df.plot.scatter(x=' <=50K',y=' White')"
   ]
  },
  {
   "cell_type": "code",
   "execution_count": 139,
   "metadata": {
    "scrolled": true
   },
   "outputs": [
    {
     "data": {
      "text/plain": [
       "<matplotlib.axes._subplots.AxesSubplot at 0x12cf938d0>"
      ]
     },
     "execution_count": 139,
     "metadata": {},
     "output_type": "execute_result"
    },
    {
     "data": {
      "image/png": "[encoded data removed]",
      "text/plain": [
       "<Figure size 432x288 with 1 Axes>"
      ]
     },
     "metadata": {
      "needs_background": "light"
     },
     "output_type": "display_data"
    }
   ],
   "source": [
    "df3 = pd.DataFrame({'learning hours': [1, 2, 5, 9],\n",
    "                  'ranking': ['d', 'c', 'b', 'a']})\n",
    "df3.plot.bar()"
   ]
  },
  {
   "cell_type": "code",
   "execution_count": 140,
   "metadata": {},
   "outputs": [
    {
     "data": {
      "text/plain": [
       "<matplotlib.axes._subplots.AxesSubplot at 0x12d5ca2d0>"
      ]
     },
     "execution_count": 140,
     "metadata": {},
     "output_type": "execute_result"
    },
    {
     "data": {
      "image/png": "[encoded data removed]",
      "text/plain": [
       "<Figure size 432x288 with 1 Axes>"
      ]
     },
     "metadata": {
      "needs_background": "light"
     },
     "output_type": "display_data"
    }
   ],
   "source": [
    "df3.plot.scatter(x='ranking',y='learning hours')"
   ]
  },
  {
   "cell_type": "code",
   "execution_count": 156,
   "metadata": {},
   "outputs": [
    {
     "name": "stdout",
     "output_type": "stream",
     "text": [
      "   learning hours ranking  code\n",
      "0               1       d     3\n",
      "1               8       a     0\n",
      "2               2       c     2\n",
      "3               3       b     1\n",
      "4               5       b     1\n",
      "5               9       a     0\n"
     ]
    }
   ],
   "source": [
    "# 4. Chuyển đổi dữ liệu \n",
    "from sklearn.preprocessing import LabelEncoder\n",
    "\n",
    "df3 = pd.DataFrame({'learning hours': [1, 8, 2, 3, 5, 9],\n",
    "                  'ranking': ['d', 'a','c', 'b','b', 'a']})\n",
    "LE = LabelEncoder()\n",
    "df3['code'] = LE.fit_transform(df3['ranking'])\n",
    "print(df3)\n",
    "#print(df3['code'])"
   ]
  },
  {
   "cell_type": "code",
   "execution_count": 166,
   "metadata": {},
   "outputs": [
    {
     "name": "stdout",
     "output_type": "stream",
     "text": [
      "(array([0, 1, 2, 3, 3, 1]), Index(['d', 'a', 'c', 'b'], dtype='object'))\n",
      "[0 1 2 3 3 1]\n",
      "[0, 1, 2, 3, 3, 1]\n",
      "   learning hours ranking  code  code1\n",
      "0               1       d     3      0\n",
      "1               8       a     0      1\n",
      "2               2       c     2      2\n",
      "3               3       b     1      3\n",
      "4               5       b     1      3\n",
      "5               9       a     0      1\n",
      "['d', 'a', 'c', 'b']\n"
     ]
    }
   ],
   "source": [
    "a = pd.factorize(df3['ranking']) \n",
    "print(a)\n",
    "print(a[0])\n",
    "print(list(a[0]))\n",
    "df3['code1']=list(a[0])\n",
    "print(df3)\n",
    "# lấy danh sách indexing \n",
    "print(list(a[1]))"
   ]
  },
  {
   "cell_type": "code",
   "execution_count": 169,
   "metadata": {},
   "outputs": [
    {
     "name": "stdout",
     "output_type": "stream",
     "text": [
      "   a  b  c  d\n",
      "0  0  0  0  1\n",
      "1  1  0  0  0\n",
      "2  0  0  1  0\n",
      "3  0  1  0  0\n",
      "4  0  1  0  0\n",
      "5  1  0  0  0\n",
      "   learning hours ranking  code  code1  a  b  c  d\n",
      "0               1       d     3      0  0  0  0  1\n",
      "1               8       a     0      1  1  0  0  0\n",
      "2               2       c     2      2  0  0  1  0\n",
      "3               3       b     1      3  0  1  0  0\n",
      "4               5       b     1      3  0  1  0  0\n",
      "5               9       a     0      1  1  0  0  0\n"
     ]
    }
   ],
   "source": [
    "# pandas dummies \n",
    "a = pd.get_dummies(df3['ranking'])\n",
    "print(a)\n",
    "frames = [df3,a]\n",
    "result = pd.concat(frames,axis=1)\n",
    "print(result)"
   ]
  },
  {
   "cell_type": "code",
   "execution_count": null,
   "metadata": {},
   "outputs": [],
   "source": []
  }
 ],
 "metadata": {
  "kernelspec": {
   "display_name": "Python 3",
   "language": "python",
   "name": "python3"
  },
  "language_info": {
   "codemirror_mode": {
    "name": "ipython",
    "version": 3
   },
   "file_extension": ".py",
   "mimetype": "text/x-python",
   "name": "python",
   "nbconvert_exporter": "python",
   "pygments_lexer": "ipython3",
   "version": "3.8.3"
  }
 },
 "nbformat": 4,
 "nbformat_minor": 2
}
