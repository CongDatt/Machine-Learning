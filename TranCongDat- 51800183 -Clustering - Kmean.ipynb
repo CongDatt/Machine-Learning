{
 "cells": [
  {
   "cell_type": "code",
   "execution_count": 1,
   "metadata": {},
   "outputs": [],
   "source": [
    "import numpy as np\n",
    "import matplotlib.pyplot as plt\n",
    "from sklearn.preprocessing import LabelEncoder"
   ]
  },
  {
   "cell_type": "code",
   "execution_count": 2,
   "metadata": {
    "scrolled": true
   },
   "outputs": [
    {
     "name": "stdout",
     "output_type": "stream",
     "text": [
      "[25 27 27 14  0 16 23 17 16  6 10 23 24  1  5 15  3  4  5 18]\n",
      "[ 3 13 20 23 11 13 11 11  1 26 23 14 14 17 19  4  0 28 20  9]\n"
     ]
    },
    {
     "data": {
      "image/png": "[encoded data removed]",
      "text/plain": [
       "<Figure size 432x288 with 1 Axes>"
      ]
     },
     "metadata": {
      "needs_background": "light"
     },
     "output_type": "display_data"
    }
   ],
   "source": [
    "X = np.random.randint(30,size=20)\n",
    "Y = np.random.randint(30,size=20)\n",
    "print(X)\n",
    "print(Y)\n",
    "plt.plot(X,Y,'bo')\n",
    "plt.show()"
   ]
  },
  {
   "cell_type": "code",
   "execution_count": 3,
   "metadata": {},
   "outputs": [
    {
     "name": "stdout",
     "output_type": "stream",
     "text": [
      "[[25  3]\n",
      " [27 13]\n",
      " [27 20]\n",
      " [14 23]\n",
      " [ 0 11]\n",
      " [16 13]\n",
      " [23 11]\n",
      " [17 11]\n",
      " [16  1]\n",
      " [ 6 26]\n",
      " [10 23]\n",
      " [23 14]\n",
      " [24 14]\n",
      " [ 1 17]\n",
      " [ 5 19]\n",
      " [15  4]\n",
      " [ 3  0]\n",
      " [ 4 28]\n",
      " [ 5 20]\n",
      " [18  9]]\n"
     ]
    }
   ],
   "source": [
    "X1 = np.array([X])\n",
    "Y1 = np.array([Y])\n",
    "Z = np.concatenate((X1.T,Y1.T),axis=1)\n",
    "print(Z)"
   ]
  },
  {
   "cell_type": "code",
   "execution_count": 4,
   "metadata": {},
   "outputs": [
    {
     "data": {
      "text/plain": [
       "KMeans(n_clusters=3)"
      ]
     },
     "execution_count": 4,
     "metadata": {},
     "output_type": "execute_result"
    }
   ],
   "source": [
    "from sklearn.cluster import KMeans\n",
    "kmeans = KMeans(n_clusters=3)\n",
    "kmeans.fit(Z)"
   ]
  },
  {
   "cell_type": "code",
   "execution_count": 5,
   "metadata": {},
   "outputs": [
    {
     "name": "stdout",
     "output_type": "stream",
     "text": [
      "[[22.22222222 12.        ]\n",
      " [ 5.625      20.875     ]\n",
      " [11.33333333  1.66666667]]\n",
      "[0 0 0 1 1 0 0 0 2 1 1 0 0 1 1 2 2 1 1 0]\n"
     ]
    }
   ],
   "source": [
    "centroid = kmeans.cluster_centers_\n",
    "labels = kmeans.labels_\n",
    "\n",
    "print (centroid)\n",
    "print(labels)"
   ]
  },
  {
   "cell_type": "code",
   "execution_count": 9,
   "metadata": {},
   "outputs": [
    {
     "name": "stdout",
     "output_type": "stream",
     "text": [
      "coordinate: [13 13] label: 1\n",
      "coordinate: [22 26] label: 2\n",
      "coordinate: [13 19] label: 2\n",
      "coordinate: [15 26] label: 2\n",
      "coordinate: [14 28] label: 2\n",
      "coordinate: [13  2] label: 1\n",
      "coordinate: [29 14] label: 0\n",
      "coordinate: [26  6] label: 0\n",
      "coordinate: [3 6] label: 1\n",
      "coordinate: [29 18] label: 0\n",
      "coordinate: [25 28] label: 2\n",
      "coordinate: [15 25] label: 2\n",
      "coordinate: [21  2] label: 0\n",
      "coordinate: [27  6] label: 0\n",
      "coordinate: [ 6 14] label: 1\n",
      "coordinate: [ 6 27] label: 2\n",
      "coordinate: [16  9] label: 1\n",
      "coordinate: [24 25] label: 2\n",
      "coordinate: [4 9] label: 1\n",
      "coordinate: [21  7] label: 0\n"
     ]
    },
    {
     "data": {
      "image/png": "[encoded data removed]",
      "text/plain": [
       "<Figure size 432x288 with 1 Axes>"
      ]
     },
     "metadata": {
      "needs_background": "light"
     },
     "output_type": "display_data"
    }
   ],
   "source": [
    "colors = [\"g.\",\"r.\",\"c.\"]\n",
    "\n",
    "for i in range(len(Z)):\n",
    "   print (\"coordinate:\" , Z[i], \"label:\", labels[i])\n",
    "   plt.plot(Z[i][0],Z[i][1],colors[labels[i]],markersize=10)\n",
    "\n",
    "plt.scatter(centroid[:,0],centroid[:,1], marker = \"x\", s=150, linewidths = 5, zorder =10)\n",
    "\n",
    "plt.show()"
   ]
  },
  {
   "cell_type": "code",
   "execution_count": 8,
   "metadata": {},
   "outputs": [],
   "source": [
    "# Kmedoids"
   ]
  },
  {
   "cell_type": "code",
   "execution_count": 9,
   "metadata": {},
   "outputs": [
    {
     "ename": "ModuleNotFoundError",
     "evalue": "No module named 'sklearn_extra'",
     "output_type": "error",
     "traceback": [
      "\u001b[1;31m---------------------------------------------------------------------------\u001b[0m",
      "\u001b[1;31mModuleNotFoundError\u001b[0m                       Traceback (most recent call last)",
      "\u001b[1;32m<ipython-input-9-5d5fae6e0515>\u001b[0m in \u001b[0;36m<module>\u001b[1;34m\u001b[0m\n\u001b[1;32m----> 1\u001b[1;33m \u001b[1;32mfrom\u001b[0m \u001b[0msklearn_extra\u001b[0m\u001b[1;33m.\u001b[0m\u001b[0mcluster\u001b[0m \u001b[1;32mimport\u001b[0m \u001b[0mKMedoids\u001b[0m\u001b[1;33m\u001b[0m\u001b[1;33m\u001b[0m\u001b[0m\n\u001b[0m\u001b[0;32m      2\u001b[0m \u001b[0mkmedoids\u001b[0m \u001b[1;33m=\u001b[0m \u001b[0mKMedoids\u001b[0m\u001b[1;33m(\u001b[0m\u001b[0mn_clusters\u001b[0m\u001b[1;33m=\u001b[0m\u001b[1;36m3\u001b[0m\u001b[1;33m)\u001b[0m\u001b[1;33m\u001b[0m\u001b[1;33m\u001b[0m\u001b[0m\n\u001b[0;32m      3\u001b[0m \u001b[0mkmedoids\u001b[0m\u001b[1;33m.\u001b[0m\u001b[0mfit\u001b[0m\u001b[1;33m(\u001b[0m\u001b[0mZ\u001b[0m\u001b[1;33m)\u001b[0m\u001b[1;33m\u001b[0m\u001b[1;33m\u001b[0m\u001b[0m\n",
      "\u001b[1;31mModuleNotFoundError\u001b[0m: No module named 'sklearn_extra'"
     ]
    }
   ],
   "source": [
    "from sklearn_extra.cluster import KMedoids\n",
    "kmedoids = KMedoids(n_clusters=3)\n",
    "kmedoids.fit(Z)"
   ]
  },
  {
   "cell_type": "code",
   "execution_count": 8,
   "metadata": {},
   "outputs": [
    {
     "name": "stdout",
     "output_type": "stream",
     "text": [
      "[[10.4 22.4]\n",
      " [21.7 14.5]\n",
      " [ 4.   5.2]]\n",
      "[1 0 1 1 2 2 1 2 0 1 0 1 2 0 0 1 2 1 1 1]\n"
     ]
    }
   ],
   "source": [
    "centroid = kmeans.cluster_centers_\n",
    "labels = kmeans.labels_\n",
    "\n",
    "print (centroid)\n",
    "print(labels)"
   ]
  },
  {
   "cell_type": "code",
   "execution_count": 9,
   "metadata": {},
   "outputs": [
    {
     "data": {
      "image/png": "[encoded data removed]",
      "text/plain": [
       "<Figure size 432x288 with 1 Axes>"
      ]
     },
     "metadata": {
      "needs_background": "light"
     },
     "output_type": "display_data"
    }
   ],
   "source": [
    "colors = [\"g.\",\"r.\",\"c.\"]\n",
    "for i in range(len(Z)):\n",
    "   #print (\"coordinate:\" , Z[i], \"label:\", labels[i])\n",
    "   plt.plot(Z[i][0],Z[i][1],colors[labels[i]],markersize=10)\n",
    "plt.scatter(centroid[:,0],centroid[:,1], marker = \"x\", s=150, linewidths = 5, zorder =10)\n",
    "plt.show()"
   ]
  },
  {
   "cell_type": "code",
   "execution_count": null,
   "metadata": {},
   "outputs": [],
   "source": []
  }
 ],
 "metadata": {
  "kernelspec": {
   "display_name": "Python 3",
   "language": "python",
   "name": "python3"
  },
  "language_info": {
   "codemirror_mode": {
    "name": "ipython",
    "version": 3
   },
   "file_extension": ".py",
   "mimetype": "text/x-python",
   "name": "python",
   "nbconvert_exporter": "python",
   "pygments_lexer": "ipython3",
   "version": "3.8.3"
  }
 },
 "nbformat": 4,
 "nbformat_minor": 2
}
