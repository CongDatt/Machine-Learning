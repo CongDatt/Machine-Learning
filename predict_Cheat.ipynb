{
 "cells": [
  {
   "cell_type": "code",
   "execution_count": 6,
   "metadata": {},
   "outputs": [
    {
     "name": "stdout",
     "output_type": "stream",
     "text": [
      "[1 0 0 1 0 0 1 0 0 0]\n",
      "[2 1 2 1 0 1 0 2 1 2]\n",
      "[125 100  70 120  95  60 220  85  75  90]\n"
     ]
    },
    {
     "ename": "NameError",
     "evalue": "name 'Y' is not defined",
     "output_type": "error",
     "traceback": [
      "\u001b[1;31m---------------------------------------------------------------------------\u001b[0m",
      "\u001b[1;31mNameError\u001b[0m                                 Traceback (most recent call last)",
      "\u001b[1;32m<ipython-input-6-e4477e9fe123>\u001b[0m in \u001b[0;36m<module>\u001b[1;34m\u001b[0m\n\u001b[0;32m     26\u001b[0m \u001b[1;33m\u001b[0m\u001b[0m\n\u001b[0;32m     27\u001b[0m \u001b[0mminmax\u001b[0m \u001b[1;33m=\u001b[0m \u001b[0mMinMaxScaler\u001b[0m\u001b[1;33m(\u001b[0m\u001b[1;33m)\u001b[0m\u001b[1;33m\u001b[0m\u001b[1;33m\u001b[0m\u001b[0m\n\u001b[1;32m---> 28\u001b[1;33m \u001b[0mY\u001b[0m \u001b[1;33m=\u001b[0m \u001b[0mminmax\u001b[0m\u001b[1;33m.\u001b[0m\u001b[0mfit_transform\u001b[0m\u001b[1;33m(\u001b[0m\u001b[0mY\u001b[0m\u001b[1;33m)\u001b[0m \u001b[1;31m#convert data to 0 - 1\u001b[0m\u001b[1;33m\u001b[0m\u001b[1;33m\u001b[0m\u001b[0m\n\u001b[0m\u001b[0;32m     29\u001b[0m \u001b[0mprint\u001b[0m\u001b[1;33m(\u001b[0m\u001b[1;34m'Data Scaler :'\u001b[0m\u001b[1;33m)\u001b[0m\u001b[1;33m\u001b[0m\u001b[1;33m\u001b[0m\u001b[0m\n\u001b[0;32m     30\u001b[0m \u001b[0mprint\u001b[0m\u001b[1;33m(\u001b[0m\u001b[0mY\u001b[0m\u001b[1;33m)\u001b[0m\u001b[1;33m\u001b[0m\u001b[1;33m\u001b[0m\u001b[0m\n",
      "\u001b[1;31mNameError\u001b[0m: name 'Y' is not defined"
     ]
    }
   ],
   "source": [
    "from sklearn.preprocessing import LabelEncoder\n",
    "from sklearn.preprocessing import MinMaxScaler\n",
    "from sklearn.neighbors import KNeighborsClassifier\n",
    "import numpy as np\n",
    "\n",
    "refund = np.array(['y','n','n','y','n','n','y','n','n','n'])\n",
    "status = np.array(['s','m','s','m','d','m','d','s','m','s'])\n",
    "income = np.array([125,100,70,120,95,60,220,85,75,90])\n",
    "label = np.array(['no','no','no','no','yes','no','no','yes','no','yes'])\n",
    "\n",
    "encoder = LabelEncoder()\n",
    "refund = encoder.fit_transform(refund)\n",
    "\n",
    "encoder2 = LabelEncoder()\n",
    "status = encoder.fit_transform(status)\n",
    "\n",
    "# encoder = LabelEncoder()\n",
    "# refund = encoder.fit_transform(income)\n",
    "refund.T\n",
    "print(refund.T)\n",
    "print(status.T)\n",
    "print(income.T)\n",
    "\n",
    "# Y = np.concatenate((height,age), axis=1)\n",
    "# print(Y)\n",
    "\n",
    "minmax = MinMaxScaler()\n",
    "Y = minmax.fit_transform(Y) #convert data to 0 - 1\n",
    "print('Data Scaler :')\n",
    "print(Y)\n",
    "\n",
    "model = KNeighborsClassifier(n_neighbors=3)\n",
    "# training process\n",
    "model.fit(Y, label)\n",
    "\n",
    "X_test = np.array([[5.5,38],[6.1,45]])\n",
    "y_pred = model.predict(X_test)\n",
    "print(y_pred)"
   ]
  },
  {
   "cell_type": "code",
   "execution_count": null,
   "metadata": {},
   "outputs": [],
   "source": []
  }
 ],
 "metadata": {
  "kernelspec": {
   "display_name": "Python 3",
   "language": "python",
   "name": "python3"
  },
  "language_info": {
   "codemirror_mode": {
    "name": "ipython",
    "version": 3
   },
   "file_extension": ".py",
   "mimetype": "text/x-python",
   "name": "python",
   "nbconvert_exporter": "python",
   "pygments_lexer": "ipython3",
   "version": "3.8.3"
  }
 },
 "nbformat": 4,
 "nbformat_minor": 4
}
