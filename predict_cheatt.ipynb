{
 "cells": [
  {
   "cell_type": "code",
   "execution_count": null,
   "metadata": {},
   "outputs": [],
   "source": [
    "from sklearn.preprocessing import LabelEncoder\n",
    "from sklearn.preprocessing import MinMaxScaler\n",
    "from sklearn.neighbors import KNeighborsClassifier\n",
    "\n",
    "refund = np.array(['y','n','n','y','n','n','y','n','n','n'])\n",
    "status = np.array(['s','m','s','m','d','m','d','s','m','s'])\n",
    "income = np.array([125,100,70,120,95,60,220,85,75,90])\n",
    "label = np.array(['no','no','no','no','yes','no','no','yes','no','yes'])\n",
    "\n",
    "encoder = LabelEncoder()\n",
    "refund = encoder.fit_transform(refund)\n",
    "\n",
    "encoder2 = LabelEncoder()\n",
    "status = encoder.fit_transform(status)\n",
    "\n",
    "refund = np.array([refund]).T\n",
    "status = np.array([status]).T\n",
    "income = np.array([income]).T\n",
    "label = label.T\n",
    "\n",
    "minmax = MinMaxScaler()\n",
    "income = minmax.fit_transform(income)\n",
    "\n",
    "\n",
    "Y = np.concatenate((refund,status,income), axis=1)\n",
    "X = Y[:9]\n",
    "\n",
    "label = label[:9]\n",
    "\n",
    "\n",
    "model = KNeighborsClassifier(n_neighbors=3)\n",
    "# training process\n",
    "model.fit(X, label)\n",
    "\n",
    "x_test = np.array([Y[9]])\n",
    "print(x_test)\n",
    "y_pred = model.predict(x_test)\n",
    "print(y_pred)"
   ]
  }
 ],
 "metadata": {
  "kernelspec": {
   "display_name": "Python 3",
   "language": "python",
   "name": "python3"
  },
  "language_info": {
   "codemirror_mode": {
    "name": "ipython",
    "version": 3
   },
   "file_extension": ".py",
   "mimetype": "text/x-python",
   "name": "python",
   "nbconvert_exporter": "python",
   "pygments_lexer": "ipython3",
   "version": "3.8.3"
  }
 },
 "nbformat": 4,
 "nbformat_minor": 4
}
