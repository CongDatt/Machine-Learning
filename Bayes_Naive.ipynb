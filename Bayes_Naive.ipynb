{
 "cells": [
  {
   "cell_type": "markdown",
   "metadata": {},
   "source": [
    "Tran Cong Dat - 51800183"
   ]
  },
  {
   "cell_type": "code",
   "execution_count": 2,
   "metadata": {},
   "outputs": [],
   "source": [
    "import pandas as pd\n",
    "import numpy as np"
   ]
  },
  {
   "cell_type": "code",
   "execution_count": 3,
   "metadata": {},
   "outputs": [
    {
     "name": "stdout",
     "output_type": "stream",
     "text": [
      "(32560, 15)\n",
      "<bound method NDFrame.head of        39          State-gov   77516    Bachelors   13        Never-married  \\\n",
      "0      50   Self-emp-not-inc   83311    Bachelors   13   Married-civ-spouse   \n",
      "1      38            Private  215646      HS-grad    9             Divorced   \n",
      "2      53            Private  234721         11th    7   Married-civ-spouse   \n",
      "3      28            Private  338409    Bachelors   13   Married-civ-spouse   \n",
      "4      37            Private  284582      Masters   14   Married-civ-spouse   \n",
      "...    ..                ...     ...          ...  ...                  ...   \n",
      "32555  27            Private  257302   Assoc-acdm   12   Married-civ-spouse   \n",
      "32556  40            Private  154374      HS-grad    9   Married-civ-spouse   \n",
      "32557  58            Private  151910      HS-grad    9              Widowed   \n",
      "32558  22            Private  201490      HS-grad    9        Never-married   \n",
      "32559  52       Self-emp-inc  287927      HS-grad    9   Married-civ-spouse   \n",
      "\n",
      "             Adm-clerical   Not-in-family   White     Male   2174   0   40  \\\n",
      "0         Exec-managerial         Husband   White     Male      0   0   13   \n",
      "1       Handlers-cleaners   Not-in-family   White     Male      0   0   40   \n",
      "2       Handlers-cleaners         Husband   Black     Male      0   0   40   \n",
      "3          Prof-specialty            Wife   Black   Female      0   0   40   \n",
      "4         Exec-managerial            Wife   White   Female      0   0   40   \n",
      "...                   ...             ...     ...      ...    ...  ..  ...   \n",
      "32555        Tech-support            Wife   White   Female      0   0   38   \n",
      "32556   Machine-op-inspct         Husband   White     Male      0   0   40   \n",
      "32557        Adm-clerical       Unmarried   White   Female      0   0   40   \n",
      "32558        Adm-clerical       Own-child   White     Male      0   0   20   \n",
      "32559     Exec-managerial            Wife   White   Female  15024   0   40   \n",
      "\n",
      "        United-States   <=50K  \n",
      "0       United-States   <=50K  \n",
      "1       United-States   <=50K  \n",
      "2       United-States   <=50K  \n",
      "3                Cuba   <=50K  \n",
      "4       United-States   <=50K  \n",
      "...               ...     ...  \n",
      "32555   United-States   <=50K  \n",
      "32556   United-States    >50K  \n",
      "32557   United-States   <=50K  \n",
      "32558   United-States   <=50K  \n",
      "32559   United-States    >50K  \n",
      "\n",
      "[32560 rows x 15 columns]>\n"
     ]
    }
   ],
   "source": [
    "df = pd.read_csv('adult.data')\n",
    "# print(df)\n",
    "print(df.shape)\n",
    "print(df.head)"
   ]
  },
  {
   "cell_type": "code",
   "execution_count": 5,
   "metadata": {},
   "outputs": [
    {
     "name": "stdout",
     "output_type": "stream",
     "text": [
      "(32560, 14)\n",
      "(32560,)\n"
     ]
    }
   ],
   "source": [
    "x = df.values[:,:-1]\n",
    "y = df.values[:,-1]\n",
    "print(x.shape)\n",
    "print(y.shape)"
   ]
  },
  {
   "cell_type": "code",
   "execution_count": 6,
   "metadata": {},
   "outputs": [
    {
     "name": "stdout",
     "output_type": "stream",
     "text": [
      "[[33 6 2925 ... 0 12 39]\n",
      " [21 4 14085 ... 0 39 39]\n",
      " [36 4 15335 ... 0 39 39]\n",
      " ...\n",
      " [41 4 7882 ... 0 39 39]\n",
      " [5 4 12880 ... 0 19 39]\n",
      " [35 5 17824 ... 0 39 39]]\n"
     ]
    }
   ],
   "source": [
    "from sklearn.preprocessing import LabelEncoder\n",
    "encoder = LabelEncoder()\n",
    "for i in range(x.shape[1]):\n",
    "    x[:,i] = encoder.fit_transform(x[:,i])\n",
    "print(x)"
   ]
  },
  {
   "cell_type": "code",
   "execution_count": 10,
   "metadata": {},
   "outputs": [
    {
     "name": "stdout",
     "output_type": "stream",
     "text": [
      "[[33 6 2925 ... 0 12 39]\n",
      " [21 4 14085 ... 0 39 39]\n",
      " [36 4 15335 ... 0 39 39]\n",
      " ...\n",
      " [10 4 16527 ... 0 37 39]\n",
      " [23 4 8079 ... 0 39 39]\n",
      " [41 4 7882 ... 0 39 39]]\n",
      "[' <=50K' ' <=50K' ' <=50K' ... ' <=50K' ' >50K' ' <=50K']\n"
     ]
    }
   ],
   "source": [
    "x_train = x[:32558,:] # 32559\n",
    "y_train = y[:32558]\n",
    "\n",
    "x_test = x[32558:,:]\n",
    "y_test = y[32558:,]\n",
    "\n",
    "print(x_train)\n",
    "print(y_train)"
   ]
  },
  {
   "cell_type": "code",
   "execution_count": 11,
   "metadata": {},
   "outputs": [
    {
     "name": "stdout",
     "output_type": "stream",
     "text": [
      "[' <=50K' ' >50K']\n"
     ]
    }
   ],
   "source": [
    "from sklearn.naive_bayes import CategoricalNB\n",
    "model1 = CategoricalNB()\n",
    "model1.fit(x_train, y_train)\n",
    "\n",
    "y_pred = model1.predict(x_test)\n",
    "print(y_pred)\n",
    "# # print(y_test)"
   ]
  },
  {
   "cell_type": "code",
   "execution_count": 12,
   "metadata": {},
   "outputs": [
    {
     "name": "stdout",
     "output_type": "stream",
     "text": [
      "[' <=50K' ' >50K']\n"
     ]
    }
   ],
   "source": [
    "from sklearn.naive_bayes import GaussianNB\n",
    "model3 = GaussianNB()\n",
    "model3.fit(x_train, y_train)\n",
    "\n",
    "y_pred = model3.predict(x_test)\n",
    "print(y_pred)"
   ]
  },
  {
   "cell_type": "code",
   "execution_count": 13,
   "metadata": {},
   "outputs": [
    {
     "name": "stdout",
     "output_type": "stream",
     "text": [
      "[' <=50K' ' >50K']\n"
     ]
    }
   ],
   "source": [
    "from sklearn.naive_bayes import ComplementNB\n",
    "model4 = ComplementNB()\n",
    "model4.fit(x_train, y_train)\n",
    "\n",
    "y_pred = model4.predict(x_test)\n",
    "print(y_pred)"
   ]
  },
  {
   "cell_type": "code",
   "execution_count": null,
   "metadata": {},
   "outputs": [],
   "source": []
  }
 ],
 "metadata": {
  "kernelspec": {
   "display_name": "Python 3",
   "language": "python",
   "name": "python3"
  },
  "language_info": {
   "codemirror_mode": {
    "name": "ipython",
    "version": 3
   },
   "file_extension": ".py",
   "mimetype": "text/x-python",
   "name": "python",
   "nbconvert_exporter": "python",
   "pygments_lexer": "ipython3",
   "version": "3.8.3"
  }
 },
 "nbformat": 4,
 "nbformat_minor": 4
}
