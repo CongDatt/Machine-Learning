{
 "cells": [
  {
   "cell_type": "code",
   "execution_count": 3,
   "metadata": {},
   "outputs": [],
   "source": [
    "import pandas as pd\n",
    "import numpy as np"
   ]
  },
  {
   "cell_type": "code",
   "execution_count": 8,
   "metadata": {},
   "outputs": [
    {
     "name": "stdout",
     "output_type": "stream",
     "text": [
      "       Age  Income Student Credit_rating  Buy\n",
      "0     30<=    high      no          fair   no\n",
      "1     30<=    high      no     excellent   no\n",
      "2   31..40    high      no          fair  yes\n",
      "3      40>  medium     yes          fair  yes\n",
      "4      40>     low     yes          fair  yes\n",
      "5      40>     low     yes     excellent   no\n",
      "6   31..40     low      no     excellent  yes\n",
      "7     30<=  medium      no          fair   no\n",
      "8     30<=     low     yes          fair  yes\n",
      "9      40>  medium     yes          fair  yes\n",
      "10    30<=  medium     yes     excellent  yes\n",
      "11  31..40  medium      no     excellent  yes\n",
      "12  31..40    high     yes          fair  yes\n",
      "13     40>  medium      no     excellent   no\n",
      "(14, 5)\n"
     ]
    }
   ],
   "source": [
    "df = pd.read_csv('computer.csv')\n",
    "print(df)\n",
    "print(df.shape)"
   ]
  },
  {
   "cell_type": "code",
   "execution_count": 10,
   "metadata": {},
   "outputs": [
    {
     "name": "stdout",
     "output_type": "stream",
     "text": [
      "[['30<=' 'high' 'no' 'fair']\n",
      " ['30<=' 'high' 'no' 'excellent']\n",
      " ['31..40' 'high' 'no' 'fair']\n",
      " ['40>' 'medium' 'yes' 'fair']\n",
      " ['40>' 'low' 'yes' 'fair']\n",
      " ['40>' 'low' 'yes' 'excellent']\n",
      " ['31..40' 'low' 'no' 'excellent']\n",
      " ['30<=' 'medium' 'no' 'fair']\n",
      " ['30<=' 'low' 'yes' 'fair']\n",
      " ['40>' 'medium' 'yes' 'fair']\n",
      " ['30<=' 'medium' 'yes' 'excellent']\n",
      " ['31..40' 'medium' 'no' 'excellent']\n",
      " ['31..40' 'high' 'yes' 'fair']\n",
      " ['40>' 'medium' 'no' 'excellent']]\n",
      "['no' 'no' 'yes' 'yes' 'yes' 'no' 'yes' 'no' 'yes' 'yes' 'yes' 'yes' 'yes'\n",
      " 'no']\n"
     ]
    }
   ],
   "source": [
    "x = df.values[:,:-1]\n",
    "y = df.values[:,-1]\n",
    "print(x)\n",
    "print(y)"
   ]
  },
  {
   "cell_type": "code",
   "execution_count": 12,
   "metadata": {},
   "outputs": [
    {
     "name": "stdout",
     "output_type": "stream",
     "text": [
      "[[0 0 0 1]\n",
      " [0 0 0 0]\n",
      " [1 0 0 1]\n",
      " [2 2 1 1]\n",
      " [2 1 1 1]\n",
      " [2 1 1 0]\n",
      " [1 1 0 0]\n",
      " [0 2 0 1]\n",
      " [0 1 1 1]\n",
      " [2 2 1 1]\n",
      " [0 2 1 0]\n",
      " [1 2 0 0]\n",
      " [1 0 1 1]\n",
      " [2 2 0 0]]\n"
     ]
    }
   ],
   "source": [
    "from sklearn.preprocessing import LabelEncoder\n",
    "encoder = LabelEncoder()\n",
    "for i in range(x.shape[1]):\n",
    "    x[:,i] = encoder.fit_transform(x[:,i])\n",
    "print(x)"
   ]
  },
  {
   "cell_type": "code",
   "execution_count": 34,
   "metadata": {},
   "outputs": [
    {
     "name": "stdout",
     "output_type": "stream",
     "text": [
      "[[0 0 0 1]\n",
      " [0 0 0 0]\n",
      " [1 0 0 1]\n",
      " [2 2 1 1]\n",
      " [2 1 1 1]\n",
      " [2 1 1 0]\n",
      " [1 1 0 0]\n",
      " [0 2 0 1]\n",
      " [0 1 1 1]\n",
      " [2 2 1 1]\n",
      " [0 2 1 0]\n",
      " [1 2 0 0]]\n",
      "['no' 'no' 'yes' 'yes' 'yes' 'no' 'yes' 'no' 'yes' 'yes' 'yes' 'yes']\n"
     ]
    }
   ],
   "source": [
    "x_train = x[:12,:]\n",
    "y_train = y[:12]\n",
    "x_test = x[12:,:]\n",
    "y_test = y[12:,]\n",
    "\n",
    "print(x_train)\n",
    "print(y_train)"
   ]
  },
  {
   "cell_type": "code",
   "execution_count": 32,
   "metadata": {},
   "outputs": [
    {
     "name": "stdout",
     "output_type": "stream",
     "text": [
      "['yes' 'yes']\n"
     ]
    }
   ],
   "source": [
    "from sklearn.naive_bayes import CategoricalNB\n",
    "model1 = CategoricalNB()\n",
    "model1.fit(x_train, y_train)\n",
    "\n",
    "y_pred = model1.predict(x_test)\n",
    "print(y_pred)\n",
    "# print(y_test)"
   ]
  },
  {
   "cell_type": "code",
   "execution_count": 29,
   "metadata": {},
   "outputs": [
    {
     "name": "stdout",
     "output_type": "stream",
     "text": [
      "['yes' 'yes']\n"
     ]
    }
   ],
   "source": [
    "from sklearn.naive_bayes import MultinomialNB\n",
    "model2 = MultinomialNB()\n",
    "model2.fit(x_train, y_train)\n",
    "\n",
    "y_pred = model2.predict(x_test)\n",
    "print(y_pred)"
   ]
  },
  {
   "cell_type": "code",
   "execution_count": 30,
   "metadata": {},
   "outputs": [
    {
     "name": "stdout",
     "output_type": "stream",
     "text": [
      "['yes' 'yes']\n"
     ]
    }
   ],
   "source": [
    "from sklearn.naive_bayes import GaussianNB\n",
    "model3 = GaussianNB()\n",
    "model3.fit(x_train, y_train)\n",
    "\n",
    "y_pred = model3.predict(x_test)\n",
    "print(y_pred)"
   ]
  },
  {
   "cell_type": "code",
   "execution_count": 31,
   "metadata": {},
   "outputs": [
    {
     "name": "stdout",
     "output_type": "stream",
     "text": [
      "['no' 'yes']\n"
     ]
    }
   ],
   "source": [
    "from sklearn.naive_bayes import ComplementNB\n",
    "model4 = ComplementNB()\n",
    "model4.fit(x_train, y_train)\n",
    "\n",
    "y_pred = model4.predict(x_test)\n",
    "print(y_pred)"
   ]
  },
  {
   "cell_type": "code",
   "execution_count": null,
   "metadata": {},
   "outputs": [],
   "source": []
  }
 ],
 "metadata": {
  "kernelspec": {
   "display_name": "Python 3",
   "language": "python",
   "name": "python3"
  },
  "language_info": {
   "codemirror_mode": {
    "name": "ipython",
    "version": 3
   },
   "file_extension": ".py",
   "mimetype": "text/x-python",
   "name": "python",
   "nbconvert_exporter": "python",
   "pygments_lexer": "ipython3",
   "version": "3.8.3"
  }
 },
 "nbformat": 4,
 "nbformat_minor": 4
}
