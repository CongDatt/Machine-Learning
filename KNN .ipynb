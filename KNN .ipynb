{
 "cells": [
  {
   "cell_type": "code",
   "execution_count": null,
   "metadata": {},
   "outputs": [],
   "source": [
    "# Tran Cong Dat - 51800183"
   ]
  },
  {
   "cell_type": "code",
   "execution_count": 3,
   "metadata": {
    "scrolled": true
   },
   "outputs": [
    {
     "data": {
      "image/png": "[encoded data removed]",
      "text/plain": [
       "<Figure size 432x288 with 1 Axes>"
      ]
     },
     "metadata": {
      "needs_background": "light"
     },
     "output_type": "display_data"
    },
    {
     "name": "stdout",
     "output_type": "stream",
     "text": [
      "[49.25, 144.1521, 64.01, 16.16, 4.49, 4.09, 361.04, 100.09, 225.0, 36.01]\n"
     ]
    }
   ],
   "source": [
    "import math\n",
    "import numpy as np\n",
    "import matplotlib.pyplot as plt\n",
    "\n",
    "age = [45, 26, 30, 34, 40, 36, 19, 28, 23, 32 ]# 38\n",
    "height = np.array([5, 5.11, 5.6, 5.9, 4.8, 5.8, 5.3, 5.8, 5.5, 5.6]) #5.5\n",
    "weight = np.array([77,47,55,59,72,60,40,60,45,58])\n",
    "label = ['H','L','M','M','H','M','L','M','L','M']\n",
    "\n",
    "person_height = 5.5\n",
    "person_age = 38\n",
    "\n",
    "plt.plot(person_height,person_age,'ro')\n",
    "plt.plot(height,age,'bo')\n",
    "plt.show()\n",
    "\n",
    "points = []\n",
    "\n",
    "for i in range(len(height)):\n",
    "    b = (age[i] - person_age )** 2 + (height[i] - person_height)**2\n",
    "    a = math.sqrt(b)\n",
    "    points.append(b)\n",
    "    \n",
    "print(points)"
   ]
  },
  {
   "cell_type": "code",
   "execution_count": 4,
   "metadata": {},
   "outputs": [
    {
     "name": "stdout",
     "output_type": "stream",
     "text": [
      "[5 4 3 9 0 2 7 1 8 6]\n",
      "[5 4 3]\n",
      "M : 60\n",
      "H : 72\n",
      "M : 59\n",
      "the weight of person is 63.66666666666667\n"
     ]
    }
   ],
   "source": [
    "points_sorted = np.argsort(points)\n",
    "print(points_sorted)\n",
    "\n",
    "k = 3\n",
    "k_index = points_sorted[:k]\n",
    "print(k_index)\n",
    "avg_weight = 0\n",
    "for i in k_index:\n",
    "    avg_weight += weight[i] / 3\n",
    "    print(label[i],':',weight[i])\n",
    "    \n",
    "print('the weight of person is', avg_weight)"
   ]
  },
  {
   "cell_type": "code",
   "execution_count": null,
   "metadata": {},
   "outputs": [],
   "source": []
  }
 ],
 "metadata": {
  "kernelspec": {
   "display_name": "Python 3",
   "language": "python",
   "name": "python3"
  },
  "language_info": {
   "codemirror_mode": {
    "name": "ipython",
    "version": 3
   },
   "file_extension": ".py",
   "mimetype": "text/x-python",
   "name": "python",
   "nbconvert_exporter": "python",
   "pygments_lexer": "ipython3",
   "version": "3.8.3"
  }
 },
 "nbformat": 4,
 "nbformat_minor": 4
}
