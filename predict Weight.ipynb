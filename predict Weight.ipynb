{
 "cells": [
  {
   "cell_type": "code",
   "execution_count": 7,
   "metadata": {},
   "outputs": [],
   "source": [
    "import numpy as np"
   ]
  },
  {
   "cell_type": "code",
   "execution_count": 8,
   "metadata": {},
   "outputs": [],
   "source": [
    "height = np.array([ [5,5.11,5.6,5.9,4.8,5.8,5.3,5.8,5.5,5.6]])\n",
    "age = np.array([[45,26,30,34,40,36,19,28,23,32]])\n",
    "label = np.array(['H','L','M','M','H','M','L','M','L','M'])\n",
    "weight = np.array([77,47,55,59,72,60,40,60,45,58])"
   ]
  },
  {
   "cell_type": "code",
   "execution_count": 9,
   "metadata": {},
   "outputs": [
    {
     "name": "stdout",
     "output_type": "stream",
     "text": [
      "(10, 1)\n",
      "(10, 1)\n",
      "(10, 2)\n",
      "[[ 5.   45.  ]\n",
      " [ 5.11 26.  ]\n",
      " [ 5.6  30.  ]\n",
      " [ 5.9  34.  ]\n",
      " [ 4.8  40.  ]\n",
      " [ 5.8  36.  ]\n",
      " [ 5.3  19.  ]\n",
      " [ 5.8  28.  ]\n",
      " [ 5.5  23.  ]\n",
      " [ 5.6  32.  ]]\n"
     ]
    }
   ],
   "source": [
    "# gộp height và age vào thành dữ liệu input có 2 thuộc tính \n",
    "height = height.T # chuyển vị ma trận\n",
    "age = age.T\n",
    "print(height.shape)\n",
    "print(age.shape)\n",
    "X = np.concatenate((height,age), axis=1)\n",
    "print(X.shape)\n",
    "print(X)"
   ]
  },
  {
   "cell_type": "code",
   "execution_count": 22,
   "metadata": {},
   "outputs": [],
   "source": [
    "#import sklearn\n",
    "pip install sklearn "
   ]
  },
  {
   "cell_type": "code",
   "execution_count": 25,
   "metadata": {},
   "outputs": [
    {
     "data": {
      "text/plain": [
       "KNeighborsClassifier(algorithm='auto', leaf_size=30, metric='minkowski',\n",
       "                     metric_params=None, n_jobs=None, n_neighbors=3, p=2,\n",
       "                     weights='uniform')"
      ]
     },
     "execution_count": 25,
     "metadata": {},
     "output_type": "execute_result"
    }
   ],
   "source": [
    "from sklearn.neighbors import KNeighborsClassifier\n",
    "model = KNeighborsClassifier(n_neighbors=3)\n",
    "# training process\n",
    "model.fit(X, label)"
   ]
  },
  {
   "cell_type": "code",
   "execution_count": 26,
   "metadata": {},
   "outputs": [],
   "source": [
    "X_test = np.array([[5.5,38],[6.1,45]])\n",
    "y_pred = model.predict(X_test)"
   ]
  },
  {
   "cell_type": "code",
   "execution_count": 19,
   "metadata": {},
   "outputs": [
    {
     "name": "stdout",
     "output_type": "stream",
     "text": [
      "['M' 'H']\n"
     ]
    }
   ],
   "source": [
    "print(y_pred)"
   ]
  },
  {
   "cell_type": "code",
   "execution_count": 20,
   "metadata": {},
   "outputs": [
    {
     "data": {
      "text/plain": [
       "KNeighborsRegressor(algorithm='auto', leaf_size=30, metric='minkowski',\n",
       "                    metric_params=None, n_jobs=None, n_neighbors=3, p=2,\n",
       "                    weights='uniform')"
      ]
     },
     "execution_count": 20,
     "metadata": {},
     "output_type": "execute_result"
    }
   ],
   "source": [
    "# Regression\n",
    "from sklearn.neighbors import KNeighborsRegressor\n",
    "model2 = KNeighborsRegressor(n_neighbors=3)\n",
    "# training process\n",
    "model2.fit(X,weight)"
   ]
  },
  {
   "cell_type": "code",
   "execution_count": 21,
   "metadata": {},
   "outputs": [
    {
     "name": "stdout",
     "output_type": "stream",
     "text": [
      "[63.66666667 69.66666667]\n"
     ]
    }
   ],
   "source": [
    "weight_pred = model2.predict(X_test)\n",
    "print(weight_pred)"
   ]
  },
  {
   "cell_type": "code",
   "execution_count": 13,
   "metadata": {},
   "outputs": [
    {
     "name": "stdout",
     "output_type": "stream",
     "text": [
      "[[0.18181818 1.        ]\n",
      " [0.28181818 0.26923077]\n",
      " [0.72727273 0.42307692]\n",
      " [1.         0.57692308]\n",
      " [0.         0.80769231]\n",
      " [0.90909091 0.65384615]\n",
      " [0.45454545 0.        ]\n",
      " [0.90909091 0.34615385]\n",
      " [0.63636364 0.15384615]\n",
      " [0.72727273 0.5       ]]\n"
     ]
    }
   ],
   "source": [
    "from sklearn.preprocessing import MinMaxScaler\n",
    "minmax = MinMaxScaler()\n",
    "X = minmax.fit_transform(X) #convert data to 0 - 1\n",
    "print(X)"
   ]
  },
  {
   "cell_type": "code",
   "execution_count": 72,
   "metadata": {},
   "outputs": [
    {
     "name": "stdout",
     "output_type": "stream",
     "text": [
      "[[ 0  2 32]]\n",
      "['no']\n"
     ]
    }
   ],
   "source": [
    "from sklearn.preprocessing import LabelEncoder\n",
    "from sklearn.preprocessing import MinMaxScaler\n",
    "from sklearn.neighbors import KNeighborsClassifier\n",
    "\n",
    "refund = np.array(['y','n','n','y','n','n','y','n','n','n'])\n",
    "status = np.array(['s','m','s','m','d','m','d','s','m','s'])\n",
    "income = np.array([125,100,70,120,95,60,220,85,75,90])\n",
    "label = np.array(['no','no','no','no','yes','no','no','yes','no','yes'])\n",
    "\n",
    "encoder = LabelEncoder()\n",
    "refund = encoder.fit_transform(refund)\n",
    "\n",
    "encoder2 = LabelEncoder()\n",
    "status = encoder.fit_transform(status)\n",
    "\n",
    "refund = np.array([refund]).T\n",
    "status = np.array([status]).T\n",
    "income = np.array([income]).T\n",
    "label = label.T\n",
    "\n",
    "\n",
    "\n",
    "Y = np.concatenate((refund,status,age), axis=1)\n",
    "X = Y[:9]\n",
    "label = label[:9]\n",
    "\n",
    "\n",
    " #convert data to 0 - 1\n",
    "# print('Data Scaler :')\n",
    "# print(Y)\n",
    "\n",
    "model = KNeighborsClassifier(n_neighbors=3)\n",
    "# training process\n",
    "model.fit(X, label)\n",
    "x_test = np.array([Y[9]])\n",
    "print(x_test)\n",
    "y_pred = model.predict(x_test)\n",
    "print(y_pred)"
   ]
  },
  {
   "cell_type": "code",
   "execution_count": null,
   "metadata": {},
   "outputs": [],
   "source": []
  }
 ],
 "metadata": {
  "kernelspec": {
   "display_name": "Python 3",
   "language": "python",
   "name": "python3"
  },
  "language_info": {
   "codemirror_mode": {
    "name": "ipython",
    "version": 3
   },
   "file_extension": ".py",
   "mimetype": "text/x-python",
   "name": "python",
   "nbconvert_exporter": "python",
   "pygments_lexer": "ipython3",
   "version": "3.8.3"
  }
 },
 "nbformat": 4,
 "nbformat_minor": 2
}
