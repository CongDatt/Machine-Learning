{
 "cells": [
  {
   "cell_type": "code",
   "execution_count": 33,
   "metadata": {},
   "outputs": [],
   "source": [
    "import numpy as np\n",
    "import matplotlib.pyplot as plt\n",
    "import pandas as pd\n",
    "from sklearn.preprocessing import LabelEncoder"
   ]
  },
  {
   "cell_type": "markdown",
   "metadata": {},
   "source": [
    "Tran Cong Dat - 51800183"
   ]
  },
  {
   "cell_type": "code",
   "execution_count": 38,
   "metadata": {},
   "outputs": [
    {
     "data": {
      "text/plain": [
       "[<matplotlib.lines.Line2D at 0x1a87d014ac0>]"
      ]
     },
     "execution_count": 38,
     "metadata": {},
     "output_type": "execute_result"
    },
    {
     "data": {
      "image/png": "[encoded data removed]",
      "text/plain": [
       "<Figure size 432x288 with 1 Axes>"
      ]
     },
     "metadata": {
      "needs_background": "light"
     },
     "output_type": "display_data"
    }
   ],
   "source": [
    "from sklearn import preprocessing\n",
    "df = pd.read_csv('sponge.data')\n",
    "\n",
    "x = df['1_CAPA']\n",
    "y = df['AAPTOS_AAPTOS']\n",
    "\n",
    "encoder = LabelEncoder()\n",
    "X = encoder.fit_transform(x)\n",
    "\n",
    "encoder = LabelEncoder()\n",
    "Y = encoder.fit_transform(y)\n",
    "\n",
    "plt.plot(X,Y,'bo')"
   ]
  },
  {
   "cell_type": "code",
   "execution_count": 39,
   "metadata": {},
   "outputs": [
    {
     "name": "stdout",
     "output_type": "stream",
     "text": [
      "[[ 3  0]\n",
      " [ 3  1]\n",
      " [ 3  2]\n",
      " [ 3  3]\n",
      " [ 3  4]\n",
      " [ 0  5]\n",
      " [ 3  6]\n",
      " [ 3  7]\n",
      " [ 3  8]\n",
      " [ 3  9]\n",
      " [ 3 10]\n",
      " [ 0 11]\n",
      " [ 1 12]\n",
      " [ 1 13]\n",
      " [ 1 14]\n",
      " [ 1 15]\n",
      " [ 1 16]\n",
      " [ 2 17]\n",
      " [ 1 18]\n",
      " [ 1 19]\n",
      " [ 1 20]\n",
      " [ 1 21]\n",
      " [ 1 22]\n",
      " [ 1 23]\n",
      " [ 1 24]\n",
      " [ 1 25]\n",
      " [ 0 26]\n",
      " [ 1 27]\n",
      " [ 1 28]\n",
      " [ 1 29]\n",
      " [ 1 30]\n",
      " [ 1 31]\n",
      " [ 3 32]\n",
      " [ 3 33]\n",
      " [ 3 34]\n",
      " [ 2 35]\n",
      " [ 3 36]\n",
      " [ 3 37]\n",
      " [ 2 38]\n",
      " [ 0 39]\n",
      " [ 2 40]\n",
      " [ 3 41]\n",
      " [ 3 42]\n",
      " [ 3 43]\n",
      " [ 3 44]\n",
      " [ 2 45]\n",
      " [ 1 46]\n",
      " [ 1 47]\n",
      " [ 0 48]\n",
      " [ 3 49]\n",
      " [ 3 50]\n",
      " [ 0 51]\n",
      " [ 0 52]\n",
      " [ 3 53]\n",
      " [ 3 54]\n",
      " [ 3 55]\n",
      " [ 3 56]\n",
      " [ 3 57]\n",
      " [ 3 58]\n",
      " [ 0 59]\n",
      " [ 0 60]\n",
      " [ 3 61]\n",
      " [ 1 62]\n",
      " [ 0 63]\n",
      " [ 3 64]\n",
      " [ 3 65]\n",
      " [ 3 66]\n",
      " [ 3 67]\n",
      " [ 3 68]\n",
      " [ 0 69]\n",
      " [ 0 70]\n",
      " [ 0 71]\n",
      " [ 0 72]\n",
      " [ 1 73]\n",
      " [ 1 74]]\n"
     ]
    }
   ],
   "source": [
    "X1 = np.array([X])\n",
    "Y1 = np.array([Y])\n",
    "Z = np.concatenate((X1.T,Y1.T),axis=1)\n",
    "print(Z)"
   ]
  },
  {
   "cell_type": "code",
   "execution_count": 41,
   "metadata": {},
   "outputs": [
    {
     "data": {
      "text/plain": [
       "KMeans(n_clusters=3)"
      ]
     },
     "execution_count": 41,
     "metadata": {},
     "output_type": "execute_result"
    }
   ],
   "source": [
    "from sklearn.cluster import KMeans\n",
    "kmeans = KMeans(n_clusters=3)\n",
    "kmeans.fit(Z)"
   ]
  },
  {
   "cell_type": "code",
   "execution_count": 42,
   "metadata": {},
   "outputs": [
    {
     "name": "stdout",
     "output_type": "stream",
     "text": [
      "[[ 1.84 37.  ]\n",
      " [ 1.68 62.  ]\n",
      " [ 1.76 12.  ]]\n",
      "[2 2 2 2 2 2 2 2 2 2 2 2 2 2 2 2 2 2 2 2 2 2 2 2 2 0 0 0 0 0 0 0 0 0 0 0 0\n",
      " 0 0 0 0 0 0 0 0 0 0 0 0 0 1 1 1 1 1 1 1 1 1 1 1 1 1 1 1 1 1 1 1 1 1 1 1 1\n",
      " 1]\n"
     ]
    }
   ],
   "source": [
    "centroid = kmeans.cluster_centers_\n",
    "labels = kmeans.labels_\n",
    "\n",
    "print (centroid)\n",
    "print(labels)"
   ]
  },
  {
   "cell_type": "code",
   "execution_count": 43,
   "metadata": {},
   "outputs": [
    {
     "name": "stdout",
     "output_type": "stream",
     "text": [
      "coordinate: [3 0] label: 2\n",
      "coordinate: [3 1] label: 2\n",
      "coordinate: [3 2] label: 2\n",
      "coordinate: [3 3] label: 2\n",
      "coordinate: [3 4] label: 2\n",
      "coordinate: [0 5] label: 2\n",
      "coordinate: [3 6] label: 2\n",
      "coordinate: [3 7] label: 2\n",
      "coordinate: [3 8] label: 2\n",
      "coordinate: [3 9] label: 2\n",
      "coordinate: [ 3 10] label: 2\n",
      "coordinate: [ 0 11] label: 2\n",
      "coordinate: [ 1 12] label: 2\n",
      "coordinate: [ 1 13] label: 2\n",
      "coordinate: [ 1 14] label: 2\n",
      "coordinate: [ 1 15] label: 2\n",
      "coordinate: [ 1 16] label: 2\n",
      "coordinate: [ 2 17] label: 2\n",
      "coordinate: [ 1 18] label: 2\n",
      "coordinate: [ 1 19] label: 2\n",
      "coordinate: [ 1 20] label: 2\n",
      "coordinate: [ 1 21] label: 2\n",
      "coordinate: [ 1 22] label: 2\n",
      "coordinate: [ 1 23] label: 2\n",
      "coordinate: [ 1 24] label: 2\n",
      "coordinate: [ 1 25] label: 0\n",
      "coordinate: [ 0 26] label: 0\n",
      "coordinate: [ 1 27] label: 0\n",
      "coordinate: [ 1 28] label: 0\n",
      "coordinate: [ 1 29] label: 0\n",
      "coordinate: [ 1 30] label: 0\n",
      "coordinate: [ 1 31] label: 0\n",
      "coordinate: [ 3 32] label: 0\n",
      "coordinate: [ 3 33] label: 0\n",
      "coordinate: [ 3 34] label: 0\n",
      "coordinate: [ 2 35] label: 0\n",
      "coordinate: [ 3 36] label: 0\n",
      "coordinate: [ 3 37] label: 0\n",
      "coordinate: [ 2 38] label: 0\n",
      "coordinate: [ 0 39] label: 0\n",
      "coordinate: [ 2 40] label: 0\n",
      "coordinate: [ 3 41] label: 0\n",
      "coordinate: [ 3 42] label: 0\n",
      "coordinate: [ 3 43] label: 0\n",
      "coordinate: [ 3 44] label: 0\n",
      "coordinate: [ 2 45] label: 0\n",
      "coordinate: [ 1 46] label: 0\n",
      "coordinate: [ 1 47] label: 0\n",
      "coordinate: [ 0 48] label: 0\n",
      "coordinate: [ 3 49] label: 0\n",
      "coordinate: [ 3 50] label: 1\n",
      "coordinate: [ 0 51] label: 1\n",
      "coordinate: [ 0 52] label: 1\n",
      "coordinate: [ 3 53] label: 1\n",
      "coordinate: [ 3 54] label: 1\n",
      "coordinate: [ 3 55] label: 1\n",
      "coordinate: [ 3 56] label: 1\n",
      "coordinate: [ 3 57] label: 1\n",
      "coordinate: [ 3 58] label: 1\n",
      "coordinate: [ 0 59] label: 1\n",
      "coordinate: [ 0 60] label: 1\n",
      "coordinate: [ 3 61] label: 1\n",
      "coordinate: [ 1 62] label: 1\n",
      "coordinate: [ 0 63] label: 1\n",
      "coordinate: [ 3 64] label: 1\n",
      "coordinate: [ 3 65] label: 1\n",
      "coordinate: [ 3 66] label: 1\n",
      "coordinate: [ 3 67] label: 1\n",
      "coordinate: [ 3 68] label: 1\n",
      "coordinate: [ 0 69] label: 1\n",
      "coordinate: [ 0 70] label: 1\n",
      "coordinate: [ 0 71] label: 1\n",
      "coordinate: [ 0 72] label: 1\n",
      "coordinate: [ 1 73] label: 1\n",
      "coordinate: [ 1 74] label: 1\n"
     ]
    },
    {
     "data": {
      "image/png": "[encoded data removed]",
      "text/plain": [
       "<Figure size 432x288 with 1 Axes>"
      ]
     },
     "metadata": {
      "needs_background": "light"
     },
     "output_type": "display_data"
    }
   ],
   "source": [
    "colors = [\"g.\",\"r.\",\"c.\"]\n",
    "\n",
    "for i in range(len(Z)):\n",
    "   print (\"coordinate:\" , Z[i], \"label:\", labels[i])\n",
    "   plt.plot(Z[i][0],Z[i][1],colors[labels[i]],markersize=10)\n",
    "\n",
    "plt.scatter(centroid[:,0],centroid[:,1], marker = \"x\", s=150, linewidths = 5, zorder =10)\n",
    "\n",
    "plt.show()"
   ]
  }
 ],
 "metadata": {
  "kernelspec": {
   "display_name": "Python 3",
   "language": "python",
   "name": "python3"
  },
  "language_info": {
   "codemirror_mode": {
    "name": "ipython",
    "version": 3
   },
   "file_extension": ".py",
   "mimetype": "text/x-python",
   "name": "python",
   "nbconvert_exporter": "python",
   "pygments_lexer": "ipython3",
   "version": "3.8.3"
  }
 },
 "nbformat": 4,
 "nbformat_minor": 4
}
